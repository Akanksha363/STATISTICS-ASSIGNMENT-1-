{
  "nbformat": 4,
  "nbformat_minor": 0,
  "metadata": {
    "colab": {
      "provenance": []
    },
    "kernelspec": {
      "name": "python3",
      "display_name": "Python 3"
    },
    "language_info": {
      "name": "python"
    }
  },
  "cells": [
    {
      "cell_type": "markdown",
      "source": [
        "                                             **ASSIGNMENT NO-1**\n",
        "                                                STATISTICS"
      ],
      "metadata": {
        "id": "WhITflqYPo8R"
      }
    },
    {
      "cell_type": "markdown",
      "source": [
        "1. Explain the different types of data (qualitative and quantitative) and\n",
        "   provide examples of each. Discuss nominal, ordinal, interval, and ratio scales.\n",
        "  \n",
        "  - Qualitative data describes attributes (e.g., gender, color), while\n",
        "    quantitative data includes numerical values (e.g., height, weight).\n",
        "       * Scales include:\n",
        "  - Nominal:  Categories without order (e.g., blood types).\n",
        "  - Ordinal:  Ordered categories (e.g., satisfaction levels).\n",
        "  - Interval: Numerical with no true zero (e.g., temperature in Celsius).\n",
        "  - Ratio:  Numerical with a true zero (e.g., weight).\n",
        "  "
      ],
      "metadata": {
        "id": "O6iSPYMqQa1G"
      }
    },
    {
      "cell_type": "markdown",
      "source": [
        "2. What are the measures of central tendency, and when should you use each?\n",
        "   Discuss the mean, median, and mode with examples and situations where each is appropriate.\n",
        "\n",
        "  - Measures of Central Tendency:\n",
        "     * Mean: Average of all values.\n",
        "       * Use when: Data is symmetrical, no outliers.\n",
        "       * Situation: Average test score.\n",
        "     * Median: Middle value in ordered data.\n",
        "       * Use when: Data has outliers or is skewed.\n",
        "       * Situation: Typical house price.\n",
        "    * Mode: Most frequent value.\n",
        "       * Use when: Categorical data, finding most common value.\n",
        "       * Situation: Most popular car color."
      ],
      "metadata": {
        "id": "8JyT8O03TIrf"
      }
    },
    {
      "cell_type": "markdown",
      "source": [
        "3. Explain the concept of dispersion. How do variance and standard deviation\n",
        "   measure the spread of data?\n",
        "   \n",
        "   - Dispersion indicates data spread. Variance shows average squared deviation\n",
        "     from the mean, while standard deviation is its square root.\n",
        "       \n",
        "       * Both highlight consistency: smaller values = less spread."
      ],
      "metadata": {
        "id": "tco1P4FOV7bb"
      }
    },
    {
      "cell_type": "markdown",
      "source": [
        "4. What is a box plot, and what can it tell you about the distribution of data?\n",
        "  - A box plot visually summarizes a dataset's distribution using quartiles,\n",
        "    showing the median, range, and potential outliers.\n",
        "  - It can tell you about the data's center, spread, and skewness, as well as\n",
        "    identify potential outliers."
      ],
      "metadata": {
        "id": "2sBBz8EMWZtq"
      }
    },
    {
      "cell_type": "markdown",
      "source": [
        "5. Discuss the role of random sampling in making inferences about populations.\n",
        "  \n",
        "  - Random sampling ensures each population member has an equal selection\n",
        "    chance, reducing bias and enabling inferences about populations with accuracy.\n",
        "    * Reduces Bias: Random sampling creates a representative sample, minimizing\n",
        "      bias.\n",
        "    * Allows Generalization: Representative samples enable broader conclusions\n",
        "      about the population.\n",
        "    * Supports Inference: Random sampling underpins statistical methods for\n",
        "      estimating population traits and testing ideas."
      ],
      "metadata": {
        "id": "67XearuJWweO"
      }
    },
    {
      "cell_type": "markdown",
      "source": [
        "6. Explain the concept of skewness and its types. How does skewness affect the\n",
        "   interpretation of data?\n",
        " - Skewness is a measure of the asymmetry of a data distribution. It  \n",
        "   indicates how much a dataset leans towards one side of the mean.\n",
        "  \n",
        " * TYPES OF SKEWNESS:\n",
        "    - POSITIVE SKEW :Tail longer on the right, mean > median.\n",
        "    - NEGATIVE SKEW : Tail longer on the left, mean < median.\n",
        "    - SYMMETRICAL: Balanced distribution, mean ≈ median ≈ mode.\n",
        "  - Impact on Interpretation:\n",
        "    * Central Tendency: Mean is sensitive to skewness, median is more robust.\n",
        "    * Outliers: Can cause or be indicated by skewness.\n",
        "    * Data Transformation: May be needed to reduce skewness for some analyses."
      ],
      "metadata": {
        "id": "2R9WZeF0Xts0"
      }
    },
    {
      "cell_type": "markdown",
      "source": [
        "7. What is the interquartile range (IQR), and how is it used to detect outliers?\n",
        "- Interquartile Range (IQR)\n",
        "   * Definition: The IQR is the range between the first quartile (Q1) and the\n",
        "     third quartile (Q3) of a dataset. It represents the middle 50% of the data.\n",
        "   * Calculation: IQR = Q3 - Q1\n",
        "- Outlier Detection using IQR\n",
        " * Method: Data points that fall below Q1 - 1.5 * IQR or above Q3 + 1.5 * IQR\n",
        "   are considered outliers.\n",
        " * Reasoning: These thresholds, often called \"fences,\" are based on the idea\n",
        "   that data points far from the central 50% are likely to be unusual or extreme.\n"
      ],
      "metadata": {
        "id": "bdZbhPlrZ3pQ"
      }
    },
    {
      "cell_type": "markdown",
      "source": [
        "8. Discuss the conditions under which the binomial distribution is used.\n",
        "\n",
        " - The binomial distribution applies when there are a fixed number of\n",
        "   independent trials, each with only two possible outcomes (success or failure), and the probability of success remains constant across all trials.\n",
        " - Think of scenarios like coin flips, where each flip is independent and has\n",
        "   two outcomes (heads or tails) with a fixed probability. These situations fit the criteria for using the binomial distribution."
      ],
      "metadata": {
        "id": "YuPdasVkck-C"
      }
    },
    {
      "cell_type": "markdown",
      "source": [
        "9. Explain the properties of the normal distribution and the empirical rule  \n",
        "   (68-95-99.7 rule).\n",
        " - Normal Distribution Properties:\n",
        "    * Bell-shaped: The distribution is symmetrical and bell-shaped, with the\n",
        "      mean, median, and mode all located at the center.\n",
        "    * Standard Deviation: The spread of the data is described by the standard\n",
        "      deviation (σ).\n",
        " - Empirical Rule (68-95-99.7 Rule): This rule describes the percentage of data\n",
        "   that falls within specific standard deviation ranges from the mean:\n",
        "    * 68% of data falls within 1 standard deviation (μ ± σ)\n",
        "    * 95% of data falls within 2 standard deviations (μ ± 2σ)\n",
        "    * 99.7% of data falls within 3 standard deviations (μ ± 3σ)"
      ],
      "metadata": {
        "id": "frkdUsufc2Up"
      }
    },
    {
      "cell_type": "markdown",
      "source": [
        "10. Provide a real-life example of a Poisson process and calculate the\n",
        "    probability for a specific event.\n",
        "    \n",
        " - Example: Customers arriving at a coffee shop.\n",
        "   * Assumption: Customers arrive randomly and independently at an average\n",
        "       rate of 10 per hour (λ = 10).\n",
        "   * Question: What is the probability of exactly 5 customers arriving in the\n",
        "      next hour?\n",
        "   * Formula (Poisson Distribution): P(X = k) = (e^-λ * λ^k) / k! Where\n",
        "     * X is the random variable (number of customers)\n",
        "     * k is the specific value (5 in this case)\n",
        "     * λ is the average rate (10)\n",
        "     * e is the mathematical constant (approximately 2.718)\n",
        "   * Calculation: P(X = 5) = (e^-10 * 10^5) / 5! P(X = 5) ≈ 0.0378"
      ],
      "metadata": {
        "id": "XdFHCsLDesMx"
      }
    },
    {
      "cell_type": "markdown",
      "source": [
        "11. Explain what a random variable is and differentiate between discrete and\n",
        "    continuous random variables.\n",
        "- Random Variable: A variable whose value is a numerical outcome of a random\n",
        "    phenomenon.\n",
        "- Types:\n",
        "  - Discrete: Takes on distinct, separate values (often integers).\n",
        "    - Example: Number of heads when flipping a coin three times (0, 1, 2, or 3).\n",
        "  - Continuous: Can take on any value within a given range.\n",
        "    - Example: Height of a student (could be any value within a range, like\n",
        "       150cm to 180cm).\n",
        "    "
      ],
      "metadata": {
        "id": "DlSAZpoGhCyM"
      }
    },
    {
      "cell_type": "markdown",
      "source": [
        "12. Provide an example dataset, calculate both covariance and correlation, and\n",
        "    interpret the results.\n",
        "- Dataset:\n",
        "  \n",
        "     Hours Studied (X)   Exam Score (Y)\n",
        "          2\t               60\n",
        "          4\t               70\n",
        "          6\t               80\n",
        "          8\t               90\n",
        "\n",
        "  * Calculations (using formulas or Python libraries):\n",
        "       - Covariance: 25 (positive)\n",
        "       - Correlation: 1 (perfect positive)\n",
        "\n",
        "Interpretation:\n",
        "\n",
        "- Covariance:  Indicates a positive relationship between hours studied and exam\n",
        "  scores. As hours studied increase, exam scores tend to increase.\n",
        "- Correlation:  Confirms a strong, perfect positive linear relationship. The\n",
        "  correlation of 1 means the variables move in the same direction proportionally."
      ],
      "metadata": {
        "id": "dTTJTG0xiRpM"
      }
    }
  ]
}